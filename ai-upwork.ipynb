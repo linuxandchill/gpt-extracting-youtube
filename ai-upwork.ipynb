{
 "cells": [
  {
   "cell_type": "markdown",
   "id": "58797745",
   "metadata": {},
   "source": [
    "# Imports "
   ]
  },
  {
   "cell_type": "code",
   "execution_count": 2,
   "id": "714e014e",
   "metadata": {},
   "outputs": [],
   "source": [
    "import json\n",
    "import openai\n",
    "from langchain.chat_models import ChatOpenAI\n",
    "from langchain.chains import create_extraction_chain\n",
    "from bs4 import BeautifulSoup\n",
    "from playwright.async_api import async_playwright\n",
    "import pandas as pd\n",
    "\n",
    "GPT_MODEL = \"gpt-3.5-turbo-0613\""
   ]
  },
  {
   "cell_type": "markdown",
   "id": "e317fcf9",
   "metadata": {},
   "source": [
    "# Utils"
   ]
  },
  {
   "cell_type": "code",
   "execution_count": 3,
   "id": "47d3e332",
   "metadata": {},
   "outputs": [],
   "source": [
    "async def run_scrape(url):\n",
    "    data = \"\"\n",
    "    async with async_playwright() as p:\n",
    "        browser = await p.chromium.launch(headless=False)\n",
    "\n",
    "        page = await browser.new_page()\n",
    "        await page.goto(url)\n",
    "\n",
    "        page_source = await page.content()\n",
    "        soup = BeautifulSoup(page_source, \"html.parser\")\n",
    "        \n",
    "        for script in soup([\"script\", \"style\"]):\n",
    "            script.extract()\n",
    "        text = soup.get_text()\n",
    "        lines = (line.strip() for line in text.splitlines())\n",
    "        chunks = (phrase.strip() for line in lines for phrase in line.split(\"  \"))\n",
    "        data = ' '.join(chunk for chunk in chunks if chunk)\n",
    "\n",
    "        await browser.close()\n",
    "    return data\n",
    "\n",
    "def extract_doctor_info(schema, llm, scrape_results):\n",
    "    extraction_chain = create_extraction_chain(schema, llm)\n",
    "    return extraction_chain.run(scrape_results)"
   ]
  },
  {
   "cell_type": "code",
   "execution_count": 4,
   "id": "4e24ae7f",
   "metadata": {},
   "outputs": [],
   "source": [
    "llm = ChatOpenAI(temperature=0, model=\"gpt-3.5-turbo-0613\", openai_api_key=openai_key)\n",
    "\n",
    "schema = {\n",
    "    \"properties\": {\n",
    "        \"name\": {\"type\": \"string\"},\n",
    "        \"clinic_location_name\": {\"type\": \"string\"},\n",
    "        \"address\": {\"type\": \"string\"}\n",
    "    },\n",
    "    \"required\": [\"name\", \"clinic_location_name\", \"address\"],\n",
    "}"
   ]
  },
  {
   "cell_type": "code",
   "execution_count": 54,
   "id": "53909bd3",
   "metadata": {},
   "outputs": [],
   "source": [
    "url = \"https://www.forresthealth.org/doctors/profile/?id=226\""
   ]
  },
  {
   "cell_type": "code",
   "execution_count": 60,
   "id": "fb6f027b",
   "metadata": {},
   "outputs": [
    {
     "data": {
      "text/plain": [
       "[{'name': 'Katherine P. Alexis, MD',\n",
       "  'clinic_location_name': 'Oak Grove Family Clinic',\n",
       "  'address': '5192 Old Highway 11 Hattiesburg, Mississippi 39402'}]"
      ]
     },
     "execution_count": 60,
     "metadata": {},
     "output_type": "execute_result"
    }
   ],
   "source": [
    "extract_doctor_info(schema, llm, output)"
   ]
  },
  {
   "cell_type": "code",
   "execution_count": 5,
   "id": "17234240",
   "metadata": {},
   "outputs": [],
   "source": [
    "output = 'David Yowell - Forrest Health\\nSkip to Content\\nJavaScript has been disabled within your browser, the content or the functionality of this web page can be\\nlimited or unavailable.\\nSearch\\nCall\\nMenu\\nAbout\\nGiving\\nBlog\\nContact\\nSpirit of Women\\nSearch Site\\n555-555-5555\\nMain Navigation\\nClasses & Events\\nFind a Doctor\\nOur Locations\\nOur Services\\nPatients & Visitors\\nYou are here:\\nForrest Health System\\nFind a Doctor\\nPhysician Profile\\nAAA\\nNew Search\\nDavid R. Yowell, PhD\\nProfile\\nProfile\\nGender:Male\\nSpecialties\\nPsychology\\nService Line\\nBehavioral Health\\nOffice Information\\nLocations\\nHattiesburg Clinic - Psychology and Counseling\\n102 Medical Park\\nHattiesburg, Mississippi 39401'"
   ]
  },
  {
   "cell_type": "code",
   "execution_count": 30,
   "id": "552246dd",
   "metadata": {},
   "outputs": [],
   "source": [
    "ralph = \"Ralph Sumner Abraham, IV, MD - Forrest Health Skip to Content JavaScript has been disabled within your browser, the content or the functionality of this web page can be limited or unavailable. Search Call Menu About Giving Blog Contact Spirit of Women Search Site 555-555-5555 Main Navigation Classes & Events Find a Doctor Our Locations Our Services Patients & Visitors You are here: Forrest Health System Find a Doctor Physician Profile AAA New Search Ralph Sumner Abraham IV, MD Profile Office Information Doctor's Contact Information Office Phone: 601-288-2150 Locations Relias Healthcare 201 W. Main Street Tupelo, Mississippi 38804 Main: 662-432-4106 Forrest General Hospital 6051 US Hwy. 49 Hattiesburg, Mississippi 39401 Main: 601-288-7000 Profile Office Information Share your experience and write a review! Careers & Volunteers Volunteers Careers Student Programs Medical Professionals Medical Staff Services Commitment to C.A.R.E FGH Family Medicine Residency Program Media and Newsroom Newsroom Blog Events Media Assets Vendors Vendor Registration Food Truck Vendor Form Community Involvement Annual Report Sponsorship Form Community Health Needs Assessment Spirit of Women Newsletter NOTICE OF PRIVACY PRACTICES · PUBLIC RECORDS REQUEST · FINANCIAL ASSISTANCE · NON-DISCRIMINATION NOTICE· NO SURPRISE BILLING RIGHTS · BCBS TRANSPARENCY IN COVERAGE · GOOD FAITH ESTIMATE NOTICE REQUEST FROM LAW ENFORCEMENT FOR RELEASE OF PROTECTED HEALTH INFORMATION · HATTIESBURG CLINIC ACO 6051 US HIGHWAY 49, HATTIESBURG MS 39401 · 601-288-7000 · © FORREST HEALTH · ALL RIGHTS RESERVED · Employment Policy: It is the policy of Forrest Health to recruit and select candidates for employment without regard to race, color, sex (including sexual orientation and gender identity), religion, national origin, age, disability or other status protected by applicable federal or state statutes. A Board of Trustees appointed by the Forrest County Board of Supervisors is charged with the oversight of Forrest Health. The system is completely self supporting and does not operate on local taxes.Forrest Health facilities are approved by the U.S. Department of Health and Human Services for participation in Medicare and Medicaid Programs.\""
   ]
  },
  {
   "cell_type": "code",
   "execution_count": 6,
   "id": "a221fa31",
   "metadata": {},
   "outputs": [
    {
     "data": {
      "text/plain": [
       "'David Yowell - Forrest Health\\nSkip to Content\\nJavaScript has been disabled within your browser, the content or the functionality of this web page can be\\nlimited or unavailable.\\nSearch\\nCall\\nMenu\\nAbout\\nGiving\\nBlog\\nContact\\nSpirit of Women\\nSearch Site\\n555-555-5555\\nMain Navigation\\nClasses & Events\\nFind a Doctor\\nOur Locations\\nOur Services\\nPatients & Visitors\\nYou are here:\\nForrest Health System\\nFind a Doctor\\nPhysician Profile\\nAAA\\nNew Search\\nDavid R. Yowell, PhD\\nProfile\\nProfile\\nGender:Male\\nSpecialties\\nPsychology\\nService Line\\nBehavioral Health\\nOffice Information\\nLocations\\nHattiesburg Clinic - Psychology and Counseling\\n102 Medical Park\\nHattiesburg, Mississippi 39401'"
      ]
     },
     "execution_count": 6,
     "metadata": {},
     "output_type": "execute_result"
    }
   ],
   "source": [
    "output"
   ]
  },
  {
   "cell_type": "code",
   "execution_count": 9,
   "id": "2d7e6dd9",
   "metadata": {},
   "outputs": [
    {
     "name": "stdout",
     "output_type": "stream",
     "text": [
      "https://www.forresthealth.org/doctors/profile/?id=301\n",
      "https://www.forresthealth.org/doctors/profile/?id=525\n",
      "https://www.forresthealth.org/doctors/profile/?id=318\n",
      "https://www.forresthealth.org/doctors/profile/?id=1049\n",
      "https://www.forresthealth.org/doctors/profile/?id=527\n",
      "https://www.forresthealth.org/doctors/profile/?id=518\n",
      "https://www.forresthealth.org/doctors/profile/?id=16\n",
      "https://www.forresthealth.org/doctors/profile/?id=1039\n",
      "https://www.forresthealth.org/doctors/profile/?id=35\n",
      "https://www.forresthealth.org/doctors/profile/?id=311\n",
      "https://www.forresthealth.org/doctors/profile/?id=1009\n",
      "https://www.forresthealth.org/doctors/profile/?id=595\n",
      "https://www.forresthealth.org/doctors/profile/?id=691\n",
      "https://www.forresthealth.org/doctors/profile/?id=658\n",
      "https://www.forresthealth.org/doctors/profile/?id=519\n",
      "https://www.forresthealth.org/doctors/profile/?id=226\n",
      "https://www.forresthealth.org/doctors/profile/?id=666\n",
      "https://www.forresthealth.org/doctors/profile/?id=523\n",
      "https://www.forresthealth.org/doctors/profile/?id=1005\n",
      "https://www.forresthealth.org/doctors/profile/?id=451\n"
     ]
    }
   ],
   "source": [
    "import os\n",
    "import glob\n",
    "import ast\n",
    "\n",
    "directory_path = './doctors'  # Replace with the actual directory path\n",
    "\n",
    "# Find all .py files in the directory\n",
    "file_pattern = os.path.join(directory_path, '*.py')\n",
    "py_files = glob.glob(file_pattern)\n",
    "\n",
    "# Loop over each .py file\n",
    "for file_path in py_files:\n",
    "    with open(file_path, 'r') as file:\n",
    "        # Read the content of the file\n",
    "        content = file.read()\n",
    "\n",
    "        # Extract the data as a Python dictionary\n",
    "        output_urls = []\n",
    "        try:\n",
    "            module = ast.parse(content)\n",
    "            assign = module.body[0]\n",
    "            if isinstance(assign, ast.Assign) and len(assign.targets) == 1 and isinstance(assign.targets[0], ast.Name) and assign.targets[0].id == 'data':\n",
    "                data_node = assign.value\n",
    "                if isinstance(data_node, ast.Str):\n",
    "                    data_dict = ast.literal_eval(data_node.s)\n",
    "                    # Process the data_dict\n",
    "                    if isinstance(data_dict, list):\n",
    "                        for item in data_dict:\n",
    "                            if isinstance(item, dict) and 'url' in item:\n",
    "                                url = item['url']\n",
    "                                print(url)\n",
    "                                output_urls.append(url)\n",
    "                                # Process the URL as needed\n",
    "                                # ...\n",
    "                else:\n",
    "                    print(f\"Invalid format in file: {file_path}\")\n",
    "            else:\n",
    "                print(f\"No 'data' variable found in file: {file_path}\")\n",
    "        except SyntaxError:\n",
    "            print(f\"Invalid syntax in file: {file_path}\")\n"
   ]
  },
  {
   "cell_type": "code",
   "execution_count": 10,
   "id": "6a39e804",
   "metadata": {},
   "outputs": [
    {
     "data": {
      "text/plain": [
       "['https://www.forresthealth.org/doctors/profile/?id=1009',\n",
       " 'https://www.forresthealth.org/doctors/profile/?id=595',\n",
       " 'https://www.forresthealth.org/doctors/profile/?id=691',\n",
       " 'https://www.forresthealth.org/doctors/profile/?id=658',\n",
       " 'https://www.forresthealth.org/doctors/profile/?id=519',\n",
       " 'https://www.forresthealth.org/doctors/profile/?id=226',\n",
       " 'https://www.forresthealth.org/doctors/profile/?id=666',\n",
       " 'https://www.forresthealth.org/doctors/profile/?id=523',\n",
       " 'https://www.forresthealth.org/doctors/profile/?id=1005',\n",
       " 'https://www.forresthealth.org/doctors/profile/?id=451']"
      ]
     },
     "execution_count": 10,
     "metadata": {},
     "output_type": "execute_result"
    }
   ],
   "source": [
    "output_urls"
   ]
  },
  {
   "cell_type": "code",
   "execution_count": 26,
   "id": "ccabd3d8",
   "metadata": {},
   "outputs": [],
   "source": [
    "urls = [\n",
    "    \"https://www.forresthealth.org/doctors/profile/?id=278\",\n",
    "    \"https://www.forresthealth.org/doctors/profile/?id=226\",\n",
    "    \"https://www.forresthealth.org/doctors/profile/?id=1009\"\n",
    "]"
   ]
  },
  {
   "cell_type": "code",
   "execution_count": 27,
   "id": "a0575893",
   "metadata": {},
   "outputs": [],
   "source": [
    "import pandas as pd\n",
    "import asyncio\n",
    "\n",
    "# Create an empty list to store the data\n",
    "data_list = []\n",
    "\n",
    "\n",
    "for doctor_profile in urls:\n",
    "    result = await run_scrape(doctor_profile)\n",
    "    data_list.append({'url': doctor_profile, 'data': result})\n"
   ]
  },
  {
   "cell_type": "code",
   "execution_count": 28,
   "id": "f97bda6f",
   "metadata": {},
   "outputs": [],
   "source": [
    "df = pd.DataFrame(data_list)"
   ]
  },
  {
   "cell_type": "code",
   "execution_count": 29,
   "id": "956c4d93",
   "metadata": {},
   "outputs": [
    {
     "data": {
      "text/html": [
       "<div>\n",
       "<style scoped>\n",
       "    .dataframe tbody tr th:only-of-type {\n",
       "        vertical-align: middle;\n",
       "    }\n",
       "\n",
       "    .dataframe tbody tr th {\n",
       "        vertical-align: top;\n",
       "    }\n",
       "\n",
       "    .dataframe thead th {\n",
       "        text-align: right;\n",
       "    }\n",
       "</style>\n",
       "<table border=\"1\" class=\"dataframe\">\n",
       "  <thead>\n",
       "    <tr style=\"text-align: right;\">\n",
       "      <th></th>\n",
       "      <th>url</th>\n",
       "      <th>data</th>\n",
       "    </tr>\n",
       "  </thead>\n",
       "  <tbody>\n",
       "    <tr>\n",
       "      <th>0</th>\n",
       "      <td>https://www.forresthealth.org/doctors/profile/...</td>\n",
       "      <td>David Yowell - Forrest Health Skip to Content ...</td>\n",
       "    </tr>\n",
       "    <tr>\n",
       "      <th>1</th>\n",
       "      <td>https://www.forresthealth.org/doctors/profile/...</td>\n",
       "      <td>Katherine Alexis - Forrest Health Skip to Cont...</td>\n",
       "    </tr>\n",
       "    <tr>\n",
       "      <th>2</th>\n",
       "      <td>https://www.forresthealth.org/doctors/profile/...</td>\n",
       "      <td>Ralph Sumner Abraham, IV, MD - Forrest Health ...</td>\n",
       "    </tr>\n",
       "  </tbody>\n",
       "</table>\n",
       "</div>"
      ],
      "text/plain": [
       "                                                 url  \\\n",
       "0  https://www.forresthealth.org/doctors/profile/...   \n",
       "1  https://www.forresthealth.org/doctors/profile/...   \n",
       "2  https://www.forresthealth.org/doctors/profile/...   \n",
       "\n",
       "                                                data  \n",
       "0  David Yowell - Forrest Health Skip to Content ...  \n",
       "1  Katherine Alexis - Forrest Health Skip to Cont...  \n",
       "2  Ralph Sumner Abraham, IV, MD - Forrest Health ...  "
      ]
     },
     "execution_count": 29,
     "metadata": {},
     "output_type": "execute_result"
    }
   ],
   "source": [
    "df"
   ]
  },
  {
   "cell_type": "code",
   "execution_count": 30,
   "id": "7cc4647b",
   "metadata": {},
   "outputs": [
    {
     "data": {
      "text/plain": [
       "'David Yowell - Forrest Health Skip to Content JavaScript has been disabled within your browser, the content or the functionality of this web page can be limited or unavailable. Search Call Menu About Giving Blog Contact Spirit of Women Search Site 555-555-5555 Main Navigation Classes & Events Find a Doctor Our Locations Our Services Patients & Visitors You are here: Forrest Health System Find a Doctor Physician Profile AAA New Search David R. Yowell, PhD Profile Profile Gender:Male Specialties Psychology Service Line Behavioral Health Office Information Locations Hattiesburg Clinic - Psychology and Counseling 102 Medical Park Hattiesburg, Mississippi 39401 Profile Office Information Share your experience and write a review! Careers & Volunteers Volunteers Careers Student Programs Medical Professionals Medical Staff Services Commitment to C.A.R.E FGH Family Medicine Residency Program Media and Newsroom Newsroom Blog Events Media Assets Vendors Vendor Registration Food Truck Vendor Form Community Involvement Annual Report Sponsorship Form Community Health Needs Assessment Spirit of Women Newsletter NOTICE OF PRIVACY PRACTICES · PUBLIC RECORDS REQUEST · FINANCIAL ASSISTANCE · NON-DISCRIMINATION NOTICE· NO SURPRISE BILLING RIGHTS · BCBS TRANSPARENCY IN COVERAGE · GOOD FAITH ESTIMATE NOTICE REQUEST FROM LAW ENFORCEMENT FOR RELEASE OF PROTECTED HEALTH INFORMATION · HATTIESBURG CLINIC ACO 6051 US HIGHWAY 49, HATTIESBURG MS 39401 · 601-288-7000 · © FORREST HEALTH · ALL RIGHTS RESERVED · Employment Policy: It is the policy of Forrest Health to recruit and select candidates for employment without regard to race, color, sex (including sexual orientation and gender identity), religion, national origin, age, disability or other status protected by applicable federal or state statutes. A Board of Trustees appointed by the Forrest County Board of Supervisors is charged with the oversight of Forrest Health. The system is completely self supporting and does not operate on local taxes.Forrest Health facilities are approved by the U.S. Department of Health and Human Services for participation in Medicare and Medicaid Programs.'"
      ]
     },
     "execution_count": 30,
     "metadata": {},
     "output_type": "execute_result"
    }
   ],
   "source": [
    "df.iloc[0]['data']"
   ]
  },
  {
   "cell_type": "code",
   "execution_count": 31,
   "id": "1862bcd6",
   "metadata": {},
   "outputs": [],
   "source": [
    "def shorten_blurb(text, sentence):\n",
    "    # idx start\n",
    "    start_index = text.find(sentence)\n",
    "\n",
    "    cleaned = text[:start_index]\n",
    "\n",
    "    return cleaned"
   ]
  },
  {
   "cell_type": "code",
   "execution_count": 32,
   "id": "f6ff2cf5",
   "metadata": {},
   "outputs": [],
   "source": [
    "df['data'] = df['data'].apply(lambda x: shorten_blurb(x, 'Share your experience and write a review!'))"
   ]
  },
  {
   "cell_type": "code",
   "execution_count": 33,
   "id": "08379025",
   "metadata": {},
   "outputs": [
    {
     "data": {
      "text/plain": [
       "'David Yowell - Forrest Health Skip to Content JavaScript has been disabled within your browser, the content or the functionality of this web page can be limited or unavailable. Search Call Menu About Giving Blog Contact Spirit of Women Search Site 555-555-5555 Main Navigation Classes & Events Find a Doctor Our Locations Our Services Patients & Visitors You are here: Forrest Health System Find a Doctor Physician Profile AAA New Search David R. Yowell, PhD Profile Profile Gender:Male Specialties Psychology Service Line Behavioral Health Office Information Locations Hattiesburg Clinic - Psychology and Counseling 102 Medical Park Hattiesburg, Mississippi 39401 Profile Office Information '"
      ]
     },
     "execution_count": 33,
     "metadata": {},
     "output_type": "execute_result"
    }
   ],
   "source": [
    "df.iloc[0]['data']"
   ]
  },
  {
   "cell_type": "code",
   "execution_count": 34,
   "id": "b233edf8",
   "metadata": {},
   "outputs": [],
   "source": [
    "df['doctor_data'] = df['data'].apply(lambda x: extract_doctor_info(schema, llm, x))"
   ]
  },
  {
   "cell_type": "code",
   "execution_count": 36,
   "id": "c4409463",
   "metadata": {},
   "outputs": [
    {
     "data": {
      "text/html": [
       "<div>\n",
       "<style scoped>\n",
       "    .dataframe tbody tr th:only-of-type {\n",
       "        vertical-align: middle;\n",
       "    }\n",
       "\n",
       "    .dataframe tbody tr th {\n",
       "        vertical-align: top;\n",
       "    }\n",
       "\n",
       "    .dataframe thead th {\n",
       "        text-align: right;\n",
       "    }\n",
       "</style>\n",
       "<table border=\"1\" class=\"dataframe\">\n",
       "  <thead>\n",
       "    <tr style=\"text-align: right;\">\n",
       "      <th></th>\n",
       "      <th>url</th>\n",
       "      <th>data</th>\n",
       "      <th>doctor_data</th>\n",
       "    </tr>\n",
       "  </thead>\n",
       "  <tbody>\n",
       "    <tr>\n",
       "      <th>0</th>\n",
       "      <td>https://www.forresthealth.org/doctors/profile/...</td>\n",
       "      <td>David Yowell - Forrest Health Skip to Content ...</td>\n",
       "      <td>[{'name': 'David Yowell', 'clinic_location_nam...</td>\n",
       "    </tr>\n",
       "    <tr>\n",
       "      <th>1</th>\n",
       "      <td>https://www.forresthealth.org/doctors/profile/...</td>\n",
       "      <td>Katherine Alexis - Forrest Health Skip to Cont...</td>\n",
       "      <td>[{'name': 'Katherine P. Alexis, MD', 'clinic_l...</td>\n",
       "    </tr>\n",
       "    <tr>\n",
       "      <th>2</th>\n",
       "      <td>https://www.forresthealth.org/doctors/profile/...</td>\n",
       "      <td>Ralph Sumner Abraham, IV, MD - Forrest Health ...</td>\n",
       "      <td>[{'name': 'Ralph Sumner Abraham, IV, MD', 'cli...</td>\n",
       "    </tr>\n",
       "  </tbody>\n",
       "</table>\n",
       "</div>"
      ],
      "text/plain": [
       "                                                 url  \\\n",
       "0  https://www.forresthealth.org/doctors/profile/...   \n",
       "1  https://www.forresthealth.org/doctors/profile/...   \n",
       "2  https://www.forresthealth.org/doctors/profile/...   \n",
       "\n",
       "                                                data  \\\n",
       "0  David Yowell - Forrest Health Skip to Content ...   \n",
       "1  Katherine Alexis - Forrest Health Skip to Cont...   \n",
       "2  Ralph Sumner Abraham, IV, MD - Forrest Health ...   \n",
       "\n",
       "                                         doctor_data  \n",
       "0  [{'name': 'David Yowell', 'clinic_location_nam...  \n",
       "1  [{'name': 'Katherine P. Alexis, MD', 'clinic_l...  \n",
       "2  [{'name': 'Ralph Sumner Abraham, IV, MD', 'cli...  "
      ]
     },
     "execution_count": 36,
     "metadata": {},
     "output_type": "execute_result"
    }
   ],
   "source": [
    "df"
   ]
  },
  {
   "cell_type": "code",
   "execution_count": 39,
   "id": "c089aaf9",
   "metadata": {},
   "outputs": [
    {
     "name": "stdout",
     "output_type": "stream",
     "text": [
      "[{'address': '201 W. Main Street Tupelo, Mississippi 38804',\n",
      "  'clinic_location_name': 'Relias Healthcare',\n",
      "  'name': 'Ralph Sumner Abraham, IV, MD'},\n",
      " {'address': '6051 US Hwy. 49 Hattiesburg, Mississippi 39401',\n",
      "  'clinic_location_name': 'Forrest General Hospital',\n",
      "  'name': 'Ralph Sumner Abraham IV, MD'}]\n"
     ]
    }
   ],
   "source": [
    "from pprint import pprint\n",
    "pprint(df.iloc[2]['doctor_data'])"
   ]
  },
  {
   "cell_type": "code",
   "execution_count": 43,
   "id": "a563d12b",
   "metadata": {},
   "outputs": [],
   "source": [
    "# Function to process each list within the column\n",
    "final_list = []\n",
    "def process_list(lst):\n",
    "    for item in lst:\n",
    "        # Do something with each item in the list\n",
    "        final_list.append(item)\n",
    "        \n",
    "df['doctor_data'].apply(lambda x: process_list(x))\n",
    "\n",
    "output_df = pd.DataFrame(final_list)\n",
    "\n",
    "df_filtered = output_df[output_df['address'].str.contains('Hattiesburg')]"
   ]
  },
  {
   "cell_type": "code",
   "execution_count": 44,
   "id": "3e994ccf",
   "metadata": {},
   "outputs": [
    {
     "data": {
      "text/plain": [
       "0    None\n",
       "1    None\n",
       "2    None\n",
       "Name: doctor_data, dtype: object"
      ]
     },
     "execution_count": 44,
     "metadata": {},
     "output_type": "execute_result"
    }
   ],
   "source": [
    "df['doctor_data'].apply(lambda x: process_list(x))"
   ]
  },
  {
   "cell_type": "code",
   "execution_count": 45,
   "id": "48f7da54",
   "metadata": {},
   "outputs": [
    {
     "data": {
      "text/plain": [
       "[{'name': 'David Yowell',\n",
       "  'clinic_location_name': 'Hattiesburg Clinic - Psychology and Counseling',\n",
       "  'address': '102 Medical Park Hattiesburg, Mississippi 39401'},\n",
       " {'name': 'Katherine P. Alexis, MD',\n",
       "  'clinic_location_name': 'Oak Grove Family Clinic',\n",
       "  'address': '5192 Old Highway 11 Hattiesburg, Mississippi 39402'},\n",
       " {'name': 'Ralph Sumner Abraham, IV, MD',\n",
       "  'clinic_location_name': 'Relias Healthcare',\n",
       "  'address': '201 W. Main Street Tupelo, Mississippi 38804'},\n",
       " {'name': 'Ralph Sumner Abraham IV, MD',\n",
       "  'clinic_location_name': 'Forrest General Hospital',\n",
       "  'address': '6051 US Hwy. 49 Hattiesburg, Mississippi 39401'}]"
      ]
     },
     "execution_count": 45,
     "metadata": {},
     "output_type": "execute_result"
    }
   ],
   "source": [
    "final_list"
   ]
  },
  {
   "cell_type": "code",
   "execution_count": 47,
   "id": "25def41b",
   "metadata": {},
   "outputs": [],
   "source": [
    "output_df = pd.DataFrame(final_list)"
   ]
  },
  {
   "cell_type": "code",
   "execution_count": 51,
   "id": "2a7ddd2b",
   "metadata": {},
   "outputs": [
    {
     "data": {
      "text/html": [
       "<div>\n",
       "<style scoped>\n",
       "    .dataframe tbody tr th:only-of-type {\n",
       "        vertical-align: middle;\n",
       "    }\n",
       "\n",
       "    .dataframe tbody tr th {\n",
       "        vertical-align: top;\n",
       "    }\n",
       "\n",
       "    .dataframe thead th {\n",
       "        text-align: right;\n",
       "    }\n",
       "</style>\n",
       "<table border=\"1\" class=\"dataframe\">\n",
       "  <thead>\n",
       "    <tr style=\"text-align: right;\">\n",
       "      <th></th>\n",
       "      <th>name</th>\n",
       "      <th>clinic_location_name</th>\n",
       "      <th>address</th>\n",
       "    </tr>\n",
       "  </thead>\n",
       "  <tbody>\n",
       "    <tr>\n",
       "      <th>0</th>\n",
       "      <td>David Yowell</td>\n",
       "      <td>Hattiesburg Clinic - Psychology and Counseling</td>\n",
       "      <td>102 Medical Park Hattiesburg, Mississippi 39401</td>\n",
       "    </tr>\n",
       "    <tr>\n",
       "      <th>1</th>\n",
       "      <td>Katherine P. Alexis, MD</td>\n",
       "      <td>Oak Grove Family Clinic</td>\n",
       "      <td>5192 Old Highway 11 Hattiesburg, Mississippi 3...</td>\n",
       "    </tr>\n",
       "    <tr>\n",
       "      <th>2</th>\n",
       "      <td>Ralph Sumner Abraham, IV, MD</td>\n",
       "      <td>Relias Healthcare</td>\n",
       "      <td>201 W. Main Street Tupelo, Mississippi 38804</td>\n",
       "    </tr>\n",
       "    <tr>\n",
       "      <th>3</th>\n",
       "      <td>Ralph Sumner Abraham IV, MD</td>\n",
       "      <td>Forrest General Hospital</td>\n",
       "      <td>6051 US Hwy. 49 Hattiesburg, Mississippi 39401</td>\n",
       "    </tr>\n",
       "  </tbody>\n",
       "</table>\n",
       "</div>"
      ],
      "text/plain": [
       "                           name  \\\n",
       "0                  David Yowell   \n",
       "1       Katherine P. Alexis, MD   \n",
       "2  Ralph Sumner Abraham, IV, MD   \n",
       "3   Ralph Sumner Abraham IV, MD   \n",
       "\n",
       "                             clinic_location_name  \\\n",
       "0  Hattiesburg Clinic - Psychology and Counseling   \n",
       "1                         Oak Grove Family Clinic   \n",
       "2                               Relias Healthcare   \n",
       "3                        Forrest General Hospital   \n",
       "\n",
       "                                             address  \n",
       "0    102 Medical Park Hattiesburg, Mississippi 39401  \n",
       "1  5192 Old Highway 11 Hattiesburg, Mississippi 3...  \n",
       "2       201 W. Main Street Tupelo, Mississippi 38804  \n",
       "3     6051 US Hwy. 49 Hattiesburg, Mississippi 39401  "
      ]
     },
     "execution_count": 51,
     "metadata": {},
     "output_type": "execute_result"
    }
   ],
   "source": [
    "output_df"
   ]
  },
  {
   "cell_type": "code",
   "execution_count": 52,
   "id": "77a625e1",
   "metadata": {},
   "outputs": [],
   "source": [
    "df_filtered = output_df[output_df['address'].str.contains('Hattiesburg')]"
   ]
  },
  {
   "cell_type": "code",
   "execution_count": 53,
   "id": "eec11d15",
   "metadata": {},
   "outputs": [
    {
     "data": {
      "text/html": [
       "<div>\n",
       "<style scoped>\n",
       "    .dataframe tbody tr th:only-of-type {\n",
       "        vertical-align: middle;\n",
       "    }\n",
       "\n",
       "    .dataframe tbody tr th {\n",
       "        vertical-align: top;\n",
       "    }\n",
       "\n",
       "    .dataframe thead th {\n",
       "        text-align: right;\n",
       "    }\n",
       "</style>\n",
       "<table border=\"1\" class=\"dataframe\">\n",
       "  <thead>\n",
       "    <tr style=\"text-align: right;\">\n",
       "      <th></th>\n",
       "      <th>name</th>\n",
       "      <th>clinic_location_name</th>\n",
       "      <th>address</th>\n",
       "    </tr>\n",
       "  </thead>\n",
       "  <tbody>\n",
       "    <tr>\n",
       "      <th>0</th>\n",
       "      <td>David Yowell</td>\n",
       "      <td>Hattiesburg Clinic - Psychology and Counseling</td>\n",
       "      <td>102 Medical Park Hattiesburg, Mississippi 39401</td>\n",
       "    </tr>\n",
       "    <tr>\n",
       "      <th>1</th>\n",
       "      <td>Katherine P. Alexis, MD</td>\n",
       "      <td>Oak Grove Family Clinic</td>\n",
       "      <td>5192 Old Highway 11 Hattiesburg, Mississippi 3...</td>\n",
       "    </tr>\n",
       "    <tr>\n",
       "      <th>3</th>\n",
       "      <td>Ralph Sumner Abraham IV, MD</td>\n",
       "      <td>Forrest General Hospital</td>\n",
       "      <td>6051 US Hwy. 49 Hattiesburg, Mississippi 39401</td>\n",
       "    </tr>\n",
       "  </tbody>\n",
       "</table>\n",
       "</div>"
      ],
      "text/plain": [
       "                          name  \\\n",
       "0                 David Yowell   \n",
       "1      Katherine P. Alexis, MD   \n",
       "3  Ralph Sumner Abraham IV, MD   \n",
       "\n",
       "                             clinic_location_name  \\\n",
       "0  Hattiesburg Clinic - Psychology and Counseling   \n",
       "1                         Oak Grove Family Clinic   \n",
       "3                        Forrest General Hospital   \n",
       "\n",
       "                                             address  \n",
       "0    102 Medical Park Hattiesburg, Mississippi 39401  \n",
       "1  5192 Old Highway 11 Hattiesburg, Mississippi 3...  \n",
       "3     6051 US Hwy. 49 Hattiesburg, Mississippi 39401  "
      ]
     },
     "execution_count": 53,
     "metadata": {},
     "output_type": "execute_result"
    }
   ],
   "source": [
    "df_filtered"
   ]
  },
  {
   "cell_type": "code",
   "execution_count": 54,
   "id": "ab1c982c",
   "metadata": {},
   "outputs": [],
   "source": [
    "df_filtered.to_csv('output.csv', index=False)"
   ]
  },
  {
   "cell_type": "code",
   "execution_count": null,
   "id": "e29b9445",
   "metadata": {},
   "outputs": [],
   "source": []
  }
 ],
 "metadata": {
  "kernelspec": {
   "display_name": "askmoney",
   "language": "python",
   "name": "askmoney"
  },
  "language_info": {
   "codemirror_mode": {
    "name": "ipython",
    "version": 3
   },
   "file_extension": ".py",
   "mimetype": "text/x-python",
   "name": "python",
   "nbconvert_exporter": "python",
   "pygments_lexer": "ipython3",
   "version": "3.9.12"
  }
 },
 "nbformat": 4,
 "nbformat_minor": 5
}
